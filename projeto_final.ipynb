{
 "cells": [
  {
   "cell_type": "markdown",
   "metadata": {},
   "source": [
    "# Projeto Final Big Data Engineer Semantix Academy"
   ]
  },
  {
   "cell_type": "markdown",
   "metadata": {},
   "source": [
    "## 01. Enviar os dados para o HDFS\n",
    "\n",
    "Etapa realizada via terminal\n",
    "1. Acessando o contêiner namenode: \n",
    "`docker exec -it namenode bash`\n",
    "2. Criando a estrutura de pastas:\n",
    "`hdfs dfs -mkdir -p /user/raoni`\n",
    "3. Testando se a criação aconteceu com sucesso:\n",
    "`hdfs dfs -ls /user/`\n",
    "4. Enviar os arquivos para o HDFS:\n",
    "`hdfs dfs -put input/dados_covid/ /user/raoni/`\n"
   ]
  },
  {
   "cell_type": "code",
   "execution_count": 1,
   "metadata": {},
   "outputs": [
    {
     "name": "stdout",
     "output_type": "stream",
     "text": [
      "Found 3 items\r\n",
      "drwxr-xr-x   - root supergroup          0 2022-04-25 15:31 /user/raoni/dados_covid\r\n",
      "drwxr-xr-x   - root supergroup          0 2022-04-25 17:52 /user/raoni/obitos_acumulados_caruaru\r\n",
      "drwxr-xr-x   - root supergroup          0 2022-04-25 18:19 /user/raoni/obitos_acumulados_petrolina\r\n"
     ]
    }
   ],
   "source": [
    "# Verificando se os arquivos constam no HDFS\n",
    "!hdfs dfs -ls /user/raoni"
   ]
  },
  {
   "cell_type": "markdown",
   "metadata": {},
   "source": [
    "### Estruturando melhor os dados "
   ]
  },
  {
   "cell_type": "code",
   "execution_count": 2,
   "metadata": {},
   "outputs": [],
   "source": [
    "# Importação das bibliotecas necessárias para o projeto\n",
    "from pyspark.sql.types import StructType\n",
    "from pyspark.sql import functions as f\n",
    "from pyspark.sql.functions import unix_timestamp"
   ]
  },
  {
   "cell_type": "code",
   "execution_count": 3,
   "metadata": {},
   "outputs": [],
   "source": [
    "# Construindo o schema a ser associado ao banco de dados\n",
    "dados_schema = StructType()\\\n",
    "    .add(\"regiao\", \"string\")\\\n",
    "    .add(\"estado\", \"string\")\\\n",
    "    .add(\"municipio\", \"string\")\\\n",
    "    .add(\"coduf\", \"integer\")\\\n",
    "    .add(\"codmun\", \"integer\")\\\n",
    "    .add(\"codRegiaoSaude\", \"integer\")\\\n",
    "    .add(\"nomeRegiaoSaude\", \"string\")\\\n",
    "    .add(\"data\", \"timestamp\")\\\n",
    "    .add(\"semanaEpi\", \"integer\")\\\n",
    "    .add(\"populacaoTCU2019\", \"integer\")\\\n",
    "    .add(\"casosAcumulado\",\"integer\")\\\n",
    "    .add(\"casosNovos\",\"integer\")\\\n",
    "    .add(\"obitosAcumulado\",\"integer\")\\\n",
    "    .add(\"obitosNovos\",\"integer\")\\\n",
    "    .add(\"Recuperadosnovos\",\"integer\")\\\n",
    "    .add(\"emAcompanhamentoNovos\",\"integer\")\\\n",
    "    .add(\"interior/metropolitana\",\"integer\")"
   ]
  },
  {
   "cell_type": "code",
   "execution_count": 4,
   "metadata": {},
   "outputs": [],
   "source": [
    "# Leitura dos dados\n",
    "dados = spark.read.csv(\"/user/raoni/dados_covid/*.csv\", header=\"true\", sep=\";\", schema=dados_schema)"
   ]
  },
  {
   "cell_type": "code",
   "execution_count": 5,
   "metadata": {},
   "outputs": [
    {
     "name": "stdout",
     "output_type": "stream",
     "text": [
      "root\n",
      " |-- regiao: string (nullable = true)\n",
      " |-- estado: string (nullable = true)\n",
      " |-- municipio: string (nullable = true)\n",
      " |-- coduf: integer (nullable = true)\n",
      " |-- codmun: integer (nullable = true)\n",
      " |-- codRegiaoSaude: integer (nullable = true)\n",
      " |-- nomeRegiaoSaude: string (nullable = true)\n",
      " |-- data: timestamp (nullable = true)\n",
      " |-- semanaEpi: integer (nullable = true)\n",
      " |-- populacaoTCU2019: integer (nullable = true)\n",
      " |-- casosAcumulado: integer (nullable = true)\n",
      " |-- casosNovos: integer (nullable = true)\n",
      " |-- obitosAcumulado: integer (nullable = true)\n",
      " |-- obitosNovos: integer (nullable = true)\n",
      " |-- Recuperadosnovos: integer (nullable = true)\n",
      " |-- emAcompanhamentoNovos: integer (nullable = true)\n",
      " |-- interior/metropolitana: integer (nullable = true)\n",
      "\n"
     ]
    }
   ],
   "source": [
    "# Visualização do Schema\n",
    "dados.printSchema()"
   ]
  },
  {
   "cell_type": "code",
   "execution_count": 6,
   "metadata": {},
   "outputs": [
    {
     "name": "stdout",
     "output_type": "stream",
     "text": [
      "+------+------+---------+-----+------+--------------+---------------+-------------------+---------+----------------+--------------+----------+---------------+-----------+----------------+---------------------+----------------------+\n",
      "|regiao|estado|municipio|coduf|codmun|codRegiaoSaude|nomeRegiaoSaude|               data|semanaEpi|populacaoTCU2019|casosAcumulado|casosNovos|obitosAcumulado|obitosNovos|Recuperadosnovos|emAcompanhamentoNovos|interior/metropolitana|\n",
      "+------+------+---------+-----+------+--------------+---------------+-------------------+---------+----------------+--------------+----------+---------------+-----------+----------------+---------------------+----------------------+\n",
      "|Brasil|  null|     null|   76|  null|          null|           null|2020-08-01 00:00:00|       31|       210147125|       2707877|     45392|          93563|       1088|         1865729|               748585|                  null|\n",
      "|Brasil|  null|     null|   76|  null|          null|           null|2020-08-02 00:00:00|       32|       210147125|       2733677|     25800|          94104|        541|         1883677|               755896|                  null|\n",
      "|Brasil|  null|     null|   76|  null|          null|           null|2020-08-03 00:00:00|       32|       210147125|       2750318|     16641|          94665|        561|         1912319|               743334|                  null|\n",
      "|Brasil|  null|     null|   76|  null|          null|           null|2020-08-04 00:00:00|       32|       210147125|       2801921|     51603|          95819|       1154|         1970767|               735335|                  null|\n",
      "|Brasil|  null|     null|   76|  null|          null|           null|2020-08-05 00:00:00|       32|       210147125|       2857597|     55676|          97240|       1421|         2020637|               741180|                  null|\n",
      "+------+------+---------+-----+------+--------------+---------------+-------------------+---------+----------------+--------------+----------+---------------+-----------+----------------+---------------------+----------------------+\n",
      "only showing top 5 rows\n",
      "\n"
     ]
    }
   ],
   "source": [
    "dados.show(5)"
   ]
  },
  {
   "cell_type": "code",
   "execution_count": 7,
   "metadata": {},
   "outputs": [],
   "source": [
    "# Ajustando a estrutura da coluna data - Excluir o campo hora (as informações são diárias)\n",
    "dados = dados.withColumn('data', f.from_unixtime(f.unix_timestamp(dados.data), \"yyyy-MM-dd\"))"
   ]
  },
  {
   "cell_type": "code",
   "execution_count": 8,
   "metadata": {},
   "outputs": [
    {
     "data": {
      "text/html": [
       "<div>\n",
       "<style scoped>\n",
       "    .dataframe tbody tr th:only-of-type {\n",
       "        vertical-align: middle;\n",
       "    }\n",
       "\n",
       "    .dataframe tbody tr th {\n",
       "        vertical-align: top;\n",
       "    }\n",
       "\n",
       "    .dataframe thead th {\n",
       "        text-align: right;\n",
       "    }\n",
       "</style>\n",
       "<table border=\"1\" class=\"dataframe\">\n",
       "  <thead>\n",
       "    <tr style=\"text-align: right;\">\n",
       "      <th></th>\n",
       "      <th>regiao</th>\n",
       "      <th>estado</th>\n",
       "      <th>municipio</th>\n",
       "      <th>coduf</th>\n",
       "      <th>codmun</th>\n",
       "      <th>codRegiaoSaude</th>\n",
       "      <th>nomeRegiaoSaude</th>\n",
       "      <th>data</th>\n",
       "      <th>semanaEpi</th>\n",
       "      <th>populacaoTCU2019</th>\n",
       "      <th>casosAcumulado</th>\n",
       "      <th>casosNovos</th>\n",
       "      <th>obitosAcumulado</th>\n",
       "      <th>obitosNovos</th>\n",
       "      <th>Recuperadosnovos</th>\n",
       "      <th>emAcompanhamentoNovos</th>\n",
       "      <th>interior/metropolitana</th>\n",
       "    </tr>\n",
       "  </thead>\n",
       "  <tbody>\n",
       "    <tr>\n",
       "      <th>0</th>\n",
       "      <td>Brasil</td>\n",
       "      <td>None</td>\n",
       "      <td>None</td>\n",
       "      <td>76</td>\n",
       "      <td>None</td>\n",
       "      <td>None</td>\n",
       "      <td>None</td>\n",
       "      <td>2020-08-01</td>\n",
       "      <td>31</td>\n",
       "      <td>210147125</td>\n",
       "      <td>2707877</td>\n",
       "      <td>45392</td>\n",
       "      <td>93563</td>\n",
       "      <td>1088</td>\n",
       "      <td>1865729</td>\n",
       "      <td>748585</td>\n",
       "      <td>None</td>\n",
       "    </tr>\n",
       "    <tr>\n",
       "      <th>1</th>\n",
       "      <td>Brasil</td>\n",
       "      <td>None</td>\n",
       "      <td>None</td>\n",
       "      <td>76</td>\n",
       "      <td>None</td>\n",
       "      <td>None</td>\n",
       "      <td>None</td>\n",
       "      <td>2020-08-02</td>\n",
       "      <td>32</td>\n",
       "      <td>210147125</td>\n",
       "      <td>2733677</td>\n",
       "      <td>25800</td>\n",
       "      <td>94104</td>\n",
       "      <td>541</td>\n",
       "      <td>1883677</td>\n",
       "      <td>755896</td>\n",
       "      <td>None</td>\n",
       "    </tr>\n",
       "    <tr>\n",
       "      <th>2</th>\n",
       "      <td>Brasil</td>\n",
       "      <td>None</td>\n",
       "      <td>None</td>\n",
       "      <td>76</td>\n",
       "      <td>None</td>\n",
       "      <td>None</td>\n",
       "      <td>None</td>\n",
       "      <td>2020-08-03</td>\n",
       "      <td>32</td>\n",
       "      <td>210147125</td>\n",
       "      <td>2750318</td>\n",
       "      <td>16641</td>\n",
       "      <td>94665</td>\n",
       "      <td>561</td>\n",
       "      <td>1912319</td>\n",
       "      <td>743334</td>\n",
       "      <td>None</td>\n",
       "    </tr>\n",
       "    <tr>\n",
       "      <th>3</th>\n",
       "      <td>Brasil</td>\n",
       "      <td>None</td>\n",
       "      <td>None</td>\n",
       "      <td>76</td>\n",
       "      <td>None</td>\n",
       "      <td>None</td>\n",
       "      <td>None</td>\n",
       "      <td>2020-08-04</td>\n",
       "      <td>32</td>\n",
       "      <td>210147125</td>\n",
       "      <td>2801921</td>\n",
       "      <td>51603</td>\n",
       "      <td>95819</td>\n",
       "      <td>1154</td>\n",
       "      <td>1970767</td>\n",
       "      <td>735335</td>\n",
       "      <td>None</td>\n",
       "    </tr>\n",
       "    <tr>\n",
       "      <th>4</th>\n",
       "      <td>Brasil</td>\n",
       "      <td>None</td>\n",
       "      <td>None</td>\n",
       "      <td>76</td>\n",
       "      <td>None</td>\n",
       "      <td>None</td>\n",
       "      <td>None</td>\n",
       "      <td>2020-08-05</td>\n",
       "      <td>32</td>\n",
       "      <td>210147125</td>\n",
       "      <td>2857597</td>\n",
       "      <td>55676</td>\n",
       "      <td>97240</td>\n",
       "      <td>1421</td>\n",
       "      <td>2020637</td>\n",
       "      <td>741180</td>\n",
       "      <td>None</td>\n",
       "    </tr>\n",
       "    <tr>\n",
       "      <th>5</th>\n",
       "      <td>Brasil</td>\n",
       "      <td>None</td>\n",
       "      <td>None</td>\n",
       "      <td>76</td>\n",
       "      <td>None</td>\n",
       "      <td>None</td>\n",
       "      <td>None</td>\n",
       "      <td>2020-08-06</td>\n",
       "      <td>32</td>\n",
       "      <td>210147125</td>\n",
       "      <td>2912212</td>\n",
       "      <td>54615</td>\n",
       "      <td>98493</td>\n",
       "      <td>1253</td>\n",
       "      <td>2080916</td>\n",
       "      <td>781954</td>\n",
       "      <td>None</td>\n",
       "    </tr>\n",
       "    <tr>\n",
       "      <th>6</th>\n",
       "      <td>Brasil</td>\n",
       "      <td>None</td>\n",
       "      <td>None</td>\n",
       "      <td>76</td>\n",
       "      <td>None</td>\n",
       "      <td>None</td>\n",
       "      <td>None</td>\n",
       "      <td>2020-08-07</td>\n",
       "      <td>32</td>\n",
       "      <td>210147125</td>\n",
       "      <td>2962442</td>\n",
       "      <td>50230</td>\n",
       "      <td>99572</td>\n",
       "      <td>1079</td>\n",
       "      <td>2068394</td>\n",
       "      <td>794476</td>\n",
       "      <td>None</td>\n",
       "    </tr>\n",
       "    <tr>\n",
       "      <th>7</th>\n",
       "      <td>Brasil</td>\n",
       "      <td>None</td>\n",
       "      <td>None</td>\n",
       "      <td>76</td>\n",
       "      <td>None</td>\n",
       "      <td>None</td>\n",
       "      <td>None</td>\n",
       "      <td>2020-08-08</td>\n",
       "      <td>32</td>\n",
       "      <td>210147125</td>\n",
       "      <td>3012412</td>\n",
       "      <td>49970</td>\n",
       "      <td>100477</td>\n",
       "      <td>905</td>\n",
       "      <td>2094293</td>\n",
       "      <td>817642</td>\n",
       "      <td>None</td>\n",
       "    </tr>\n",
       "    <tr>\n",
       "      <th>8</th>\n",
       "      <td>Brasil</td>\n",
       "      <td>None</td>\n",
       "      <td>None</td>\n",
       "      <td>76</td>\n",
       "      <td>None</td>\n",
       "      <td>None</td>\n",
       "      <td>None</td>\n",
       "      <td>2020-08-09</td>\n",
       "      <td>33</td>\n",
       "      <td>210147125</td>\n",
       "      <td>3035422</td>\n",
       "      <td>23010</td>\n",
       "      <td>101049</td>\n",
       "      <td>572</td>\n",
       "      <td>2118460</td>\n",
       "      <td>815913</td>\n",
       "      <td>None</td>\n",
       "    </tr>\n",
       "    <tr>\n",
       "      <th>9</th>\n",
       "      <td>Brasil</td>\n",
       "      <td>None</td>\n",
       "      <td>None</td>\n",
       "      <td>76</td>\n",
       "      <td>None</td>\n",
       "      <td>None</td>\n",
       "      <td>None</td>\n",
       "      <td>2020-08-10</td>\n",
       "      <td>33</td>\n",
       "      <td>210147125</td>\n",
       "      <td>3057470</td>\n",
       "      <td>22048</td>\n",
       "      <td>101752</td>\n",
       "      <td>703</td>\n",
       "      <td>2163812</td>\n",
       "      <td>791906</td>\n",
       "      <td>None</td>\n",
       "    </tr>\n",
       "  </tbody>\n",
       "</table>\n",
       "</div>"
      ],
      "text/plain": [
       "   regiao estado municipio  coduf codmun codRegiaoSaude nomeRegiaoSaude  \\\n",
       "0  Brasil   None      None     76   None           None            None   \n",
       "1  Brasil   None      None     76   None           None            None   \n",
       "2  Brasil   None      None     76   None           None            None   \n",
       "3  Brasil   None      None     76   None           None            None   \n",
       "4  Brasil   None      None     76   None           None            None   \n",
       "5  Brasil   None      None     76   None           None            None   \n",
       "6  Brasil   None      None     76   None           None            None   \n",
       "7  Brasil   None      None     76   None           None            None   \n",
       "8  Brasil   None      None     76   None           None            None   \n",
       "9  Brasil   None      None     76   None           None            None   \n",
       "\n",
       "         data  semanaEpi  populacaoTCU2019  casosAcumulado  casosNovos  \\\n",
       "0  2020-08-01         31         210147125         2707877       45392   \n",
       "1  2020-08-02         32         210147125         2733677       25800   \n",
       "2  2020-08-03         32         210147125         2750318       16641   \n",
       "3  2020-08-04         32         210147125         2801921       51603   \n",
       "4  2020-08-05         32         210147125         2857597       55676   \n",
       "5  2020-08-06         32         210147125         2912212       54615   \n",
       "6  2020-08-07         32         210147125         2962442       50230   \n",
       "7  2020-08-08         32         210147125         3012412       49970   \n",
       "8  2020-08-09         33         210147125         3035422       23010   \n",
       "9  2020-08-10         33         210147125         3057470       22048   \n",
       "\n",
       "   obitosAcumulado  obitosNovos  Recuperadosnovos  emAcompanhamentoNovos  \\\n",
       "0            93563         1088           1865729                 748585   \n",
       "1            94104          541           1883677                 755896   \n",
       "2            94665          561           1912319                 743334   \n",
       "3            95819         1154           1970767                 735335   \n",
       "4            97240         1421           2020637                 741180   \n",
       "5            98493         1253           2080916                 781954   \n",
       "6            99572         1079           2068394                 794476   \n",
       "7           100477          905           2094293                 817642   \n",
       "8           101049          572           2118460                 815913   \n",
       "9           101752          703           2163812                 791906   \n",
       "\n",
       "  interior/metropolitana  \n",
       "0                   None  \n",
       "1                   None  \n",
       "2                   None  \n",
       "3                   None  \n",
       "4                   None  \n",
       "5                   None  \n",
       "6                   None  \n",
       "7                   None  \n",
       "8                   None  \n",
       "9                   None  "
      ]
     },
     "execution_count": 8,
     "metadata": {},
     "output_type": "execute_result"
    }
   ],
   "source": [
    "# Apresentando os dados de  forma mais limpa com o auxilio do pandas \n",
    "dados.limit(10).toPandas()"
   ]
  },
  {
   "cell_type": "markdown",
   "metadata": {},
   "source": [
    "## 02. Otimizar todos os dados do HDFS para uma tabela Hive particionada por município"
   ]
  },
  {
   "cell_type": "code",
   "execution_count": 14,
   "metadata": {},
   "outputs": [],
   "source": [
    "# Salvado como tabela Hive particionada por município  \n",
    "dados.write.saveAsTable(\"dados_covid_tabela_hive\", format=\"parquet\", partitionBy=\"municipio\")"
   ]
  },
  {
   "cell_type": "code",
   "execution_count": 9,
   "metadata": {},
   "outputs": [
    {
     "name": "stdout",
     "output_type": "stream",
     "text": [
      "+-----------------------------+\n",
      "|partition                    |\n",
      "+-----------------------------+\n",
      "|municipio=Abadia de Goiás    |\n",
      "|municipio=Abadia dos Dourados|\n",
      "|municipio=Abadiânia          |\n",
      "|municipio=Abaetetuba         |\n",
      "|municipio=Abaeté             |\n",
      "+-----------------------------+\n",
      "only showing top 5 rows\n",
      "\n"
     ]
    }
   ],
   "source": [
    "#Conferindo se a tabela Hive foi salva com sucesso\n",
    "sqlContext.sql(\"show partitions dados_covid_tabela_hive\").show(5, truncate=False)"
   ]
  },
  {
   "cell_type": "markdown",
   "metadata": {},
   "source": [
    "## 03. Criar 3 visualizações pelo Spark com os dados enviados para o HDFS"
   ]
  },
  {
   "cell_type": "markdown",
   "metadata": {},
   "source": [
    "### Construindo 1º visualização "
   ]
  },
  {
   "cell_type": "code",
   "execution_count": 10,
   "metadata": {},
   "outputs": [],
   "source": [
    "# Selecionando os dados da cidade de Recife - PE\n",
    "dados_recife = spark.read.parquet(\"/user/hive/warehouse/dados_covid_tabela_hive/municipio=Recife\")"
   ]
  },
  {
   "cell_type": "code",
   "execution_count": 11,
   "metadata": {},
   "outputs": [],
   "source": [
    "# Construindo um DataFrame com a soma dos óbitos acumulados\n",
    "recife_obitos_acumulados = dados_recife.agg({\"obitosAcumulado\":\"sum\"})"
   ]
  },
  {
   "cell_type": "code",
   "execution_count": 12,
   "metadata": {},
   "outputs": [
    {
     "name": "stdout",
     "output_type": "stream",
     "text": [
      "+--------------------+\n",
      "|sum(obitosAcumulado)|\n",
      "+--------------------+\n",
      "|             1159750|\n",
      "+--------------------+\n",
      "\n"
     ]
    }
   ],
   "source": [
    "# Visualizando \n",
    "recife_obitos_acumulados.show()"
   ]
  },
  {
   "cell_type": "code",
   "execution_count": 13,
   "metadata": {},
   "outputs": [],
   "source": [
    "# Renomeando a coluna, pois tabela Hive não aceita alguns caracteres como o de parênteses \n",
    "recife_obitos_acumulados = recife_obitos_acumulados.withColumnRenamed(\"sum(obitosAcumulado)\", \"obitosAcumulados\")"
   ]
  },
  {
   "cell_type": "code",
   "execution_count": 14,
   "metadata": {},
   "outputs": [
    {
     "name": "stdout",
     "output_type": "stream",
     "text": [
      "+----------------+\n",
      "|obitosAcumulados|\n",
      "+----------------+\n",
      "|         1159750|\n",
      "+----------------+\n",
      "\n"
     ]
    }
   ],
   "source": [
    "#Visualizando apôs alteração \n",
    "recife_obitos_acumulados.show()"
   ]
  },
  {
   "cell_type": "markdown",
   "metadata": {},
   "source": [
    "### Construindo 2º visualização "
   ]
  },
  {
   "cell_type": "code",
   "execution_count": 15,
   "metadata": {},
   "outputs": [
    {
     "name": "stdout",
     "output_type": "stream",
     "text": [
      "+----------+---------------+--------------+\n",
      "|      data|obitosAcumulado|casosAcumulado|\n",
      "+----------+---------------+--------------+\n",
      "|2021-01-01|           2695|         51088|\n",
      "|2021-01-02|           2696|         51246|\n",
      "|2021-01-03|           2698|         51324|\n",
      "|2021-01-04|           2697|         51500|\n",
      "|2021-01-05|           2699|         51850|\n",
      "|2021-01-06|           2706|         52064|\n",
      "|2021-01-07|           2715|         52508|\n",
      "|2021-01-08|           2726|         52637|\n",
      "|2021-01-09|           2749|         52778|\n",
      "|2021-01-10|           2751|         53138|\n",
      "+----------+---------------+--------------+\n",
      "only showing top 10 rows\n",
      "\n"
     ]
    }
   ],
   "source": [
    "dados_recife.select(\"data\", \"obitosAcumulado\", \"casosAcumulado\").show(10)"
   ]
  },
  {
   "cell_type": "markdown",
   "metadata": {},
   "source": [
    "### Construindo 3º visualização "
   ]
  },
  {
   "cell_type": "code",
   "execution_count": 16,
   "metadata": {},
   "outputs": [],
   "source": [
    "# Óbitos acumulados e mortalidade por dia na cidade do Recife \n",
    "dados_recife_letalidade = dados_recife.select(\n",
    "    dados_recife['data'].alias('Data'),\\\n",
    "    dados_recife['obitosAcumulado'].alias('Óbitos_Acumulados'),\\\n",
    "    (f.round(dados_recife['obitosAcumulado']/dados_recife['populacaoTCU2019']*100000,2)).alias('Mortalidade')\n",
    ")"
   ]
  },
  {
   "cell_type": "code",
   "execution_count": 17,
   "metadata": {},
   "outputs": [
    {
     "name": "stdout",
     "output_type": "stream",
     "text": [
      "+----------+-----------------+-----------+\n",
      "|Data      |Óbitos_Acumulados|Mortalidade|\n",
      "+----------+-----------------+-----------+\n",
      "|2021-01-01|2695             |163.76     |\n",
      "|2021-01-02|2696             |163.82     |\n",
      "|2021-01-03|2698             |163.94     |\n",
      "|2021-01-04|2697             |163.88     |\n",
      "|2021-01-05|2699             |164.0      |\n",
      "|2021-01-06|2706             |164.43     |\n",
      "|2021-01-07|2715             |164.97     |\n",
      "|2021-01-08|2726             |165.64     |\n",
      "|2021-01-09|2749             |167.04     |\n",
      "|2021-01-10|2751             |167.16     |\n",
      "|2021-01-11|2751             |167.16     |\n",
      "|2021-01-12|2770             |168.31     |\n",
      "|2021-01-13|2782             |169.04     |\n",
      "|2021-01-14|2792             |169.65     |\n",
      "|2021-01-15|2798             |170.02     |\n",
      "|2021-01-16|2808             |170.62     |\n",
      "|2021-01-17|2825             |171.66     |\n",
      "|2021-01-18|2826             |171.72     |\n",
      "|2021-01-19|2833             |172.14     |\n",
      "|2021-01-20|2848             |173.05     |\n",
      "+----------+-----------------+-----------+\n",
      "only showing top 20 rows\n",
      "\n"
     ]
    }
   ],
   "source": [
    "dados_recife_letalidade.show(truncate=False)"
   ]
  }
 ],
 "metadata": {
  "kernelspec": {
   "display_name": "PySpark",
   "language": "python",
   "name": "pyspark"
  },
  "language_info": {
   "codemirror_mode": {
    "name": "ipython",
    "version": 3
   },
   "file_extension": ".py",
   "mimetype": "text/x-python",
   "name": "python",
   "nbconvert_exporter": "python",
   "pygments_lexer": "ipython3",
   "version": "3.6.10"
  }
 },
 "nbformat": 4,
 "nbformat_minor": 2
}
