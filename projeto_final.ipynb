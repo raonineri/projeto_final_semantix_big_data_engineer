{
 "cells": [
  {
   "cell_type": "markdown",
   "metadata": {},
   "source": [
    "# Projeto Final Big Data Engineer Semantix Academy"
   ]
  },
  {
   "cell_type": "markdown",
   "metadata": {},
   "source": [
    "## 01. Enviar os dados para o HDFS\n",
    "\n",
    "Etapa realizada via terminal\n",
    "1. Acessando o contêiner namenode: \n",
    "`docker exec -it namenode bash`\n",
    "2. Criando a estrutura de pastas:\n",
    "`hdfs dfs -mkdir -p /user/raoni`\n",
    "3. Testando se a criação aconteceu com sucesso:\n",
    "`hdfs dfs -ls /user/`\n",
    "4. Enviar os arquivos para o HDFS:\n",
    "`hdfs dfs -put input/dados_covid/ /user/raoni/`\n"
   ]
  },
  {
   "cell_type": "code",
   "execution_count": 23,
   "metadata": {},
   "outputs": [
    {
     "name": "stdout",
     "output_type": "stream",
     "text": [
      "Found 4 items\r\n",
      "-rw-r--r--   3 root supergroup   62492959 2022-04-25 15:31 /user/raoni/dados_covid/HIST_PAINEL_COVIDBR_2020_Parte1_06jul2021.csv\r\n",
      "-rw-r--r--   3 root supergroup  138681606 2022-04-25 15:31 /user/raoni/dados_covid/HIST_PAINEL_COVIDBR_2020_Parte2_06jul2021.csv\r\n",
      "-rw-r--r--   3 root supergroup  167521915 2022-04-25 15:31 /user/raoni/dados_covid/HIST_PAINEL_COVIDBR_2021_Parte1_06jul2021.csv\r\n",
      "-rw-r--r--   3 root supergroup   93906103 2022-04-25 15:31 /user/raoni/dados_covid/HIST_PAINEL_COVIDBR_2021_Parte2_06jul2021.csv\r\n"
     ]
    }
   ],
   "source": [
    "# Verificando se os arquivos constam no HDFS\n",
    "!hdfs dfs -ls /user/raoni/dados_covid"
   ]
  },
  {
   "cell_type": "markdown",
   "metadata": {},
   "source": [
    "### Estruturando melhor os dados "
   ]
  },
  {
   "cell_type": "code",
   "execution_count": 53,
   "metadata": {},
   "outputs": [],
   "source": [
    "# Importação das bibliotecas necessárias para o projeto\n",
    "from pyspark.sql.types import StructType\n",
    "from pyspark.sql import functions as f\n",
    "from pyspark.sql.functions import unix_timestamp, col, when"
   ]
  },
  {
   "cell_type": "code",
   "execution_count": 3,
   "metadata": {},
   "outputs": [],
   "source": [
    "# Construindo o schema a ser associado ao banco de dados\n",
    "dados_schema = StructType()\\\n",
    "    .add(\"regiao\", \"string\")\\\n",
    "    .add(\"estado\", \"string\")\\\n",
    "    .add(\"municipio\", \"string\")\\\n",
    "    .add(\"coduf\", \"integer\")\\\n",
    "    .add(\"codmun\", \"integer\")\\\n",
    "    .add(\"codRegiaoSaude\", \"integer\")\\\n",
    "    .add(\"nomeRegiaoSaude\", \"string\")\\\n",
    "    .add(\"data\", \"timestamp\")\\\n",
    "    .add(\"semanaEpi\", \"integer\")\\\n",
    "    .add(\"populacaoTCU2019\", \"integer\")\\\n",
    "    .add(\"casosAcumulado\",\"integer\")\\\n",
    "    .add(\"casosNovos\",\"integer\")\\\n",
    "    .add(\"obitosAcumulado\",\"integer\")\\\n",
    "    .add(\"obitosNovos\",\"integer\")\\\n",
    "    .add(\"Recuperadosnovos\",\"integer\")\\\n",
    "    .add(\"emAcompanhamentoNovos\",\"integer\")\\\n",
    "    .add(\"interior/metropolitana\",\"integer\")"
   ]
  },
  {
   "cell_type": "code",
   "execution_count": 4,
   "metadata": {},
   "outputs": [],
   "source": [
    "# Leitura dos dados\n",
    "dados = spark.read.csv(\"/user/raoni/dados_covid/*.csv\", header=\"true\", sep=\";\", schema=dados_schema)"
   ]
  },
  {
   "cell_type": "code",
   "execution_count": 5,
   "metadata": {},
   "outputs": [
    {
     "name": "stdout",
     "output_type": "stream",
     "text": [
      "root\n",
      " |-- regiao: string (nullable = true)\n",
      " |-- estado: string (nullable = true)\n",
      " |-- municipio: string (nullable = true)\n",
      " |-- coduf: integer (nullable = true)\n",
      " |-- codmun: integer (nullable = true)\n",
      " |-- codRegiaoSaude: integer (nullable = true)\n",
      " |-- nomeRegiaoSaude: string (nullable = true)\n",
      " |-- data: timestamp (nullable = true)\n",
      " |-- semanaEpi: integer (nullable = true)\n",
      " |-- populacaoTCU2019: integer (nullable = true)\n",
      " |-- casosAcumulado: integer (nullable = true)\n",
      " |-- casosNovos: integer (nullable = true)\n",
      " |-- obitosAcumulado: integer (nullable = true)\n",
      " |-- obitosNovos: integer (nullable = true)\n",
      " |-- Recuperadosnovos: integer (nullable = true)\n",
      " |-- emAcompanhamentoNovos: integer (nullable = true)\n",
      " |-- interior/metropolitana: integer (nullable = true)\n",
      "\n"
     ]
    }
   ],
   "source": [
    "# Visualização do Schema\n",
    "dados.printSchema()"
   ]
  },
  {
   "cell_type": "code",
   "execution_count": 6,
   "metadata": {},
   "outputs": [
    {
     "name": "stdout",
     "output_type": "stream",
     "text": [
      "+------+------+---------+-----+------+--------------+---------------+-------------------+---------+----------------+--------------+----------+---------------+-----------+----------------+---------------------+----------------------+\n",
      "|regiao|estado|municipio|coduf|codmun|codRegiaoSaude|nomeRegiaoSaude|               data|semanaEpi|populacaoTCU2019|casosAcumulado|casosNovos|obitosAcumulado|obitosNovos|Recuperadosnovos|emAcompanhamentoNovos|interior/metropolitana|\n",
      "+------+------+---------+-----+------+--------------+---------------+-------------------+---------+----------------+--------------+----------+---------------+-----------+----------------+---------------------+----------------------+\n",
      "|Brasil|  null|     null|   76|  null|          null|           null|2020-08-01 00:00:00|       31|       210147125|       2707877|     45392|          93563|       1088|         1865729|               748585|                  null|\n",
      "|Brasil|  null|     null|   76|  null|          null|           null|2020-08-02 00:00:00|       32|       210147125|       2733677|     25800|          94104|        541|         1883677|               755896|                  null|\n",
      "|Brasil|  null|     null|   76|  null|          null|           null|2020-08-03 00:00:00|       32|       210147125|       2750318|     16641|          94665|        561|         1912319|               743334|                  null|\n",
      "|Brasil|  null|     null|   76|  null|          null|           null|2020-08-04 00:00:00|       32|       210147125|       2801921|     51603|          95819|       1154|         1970767|               735335|                  null|\n",
      "|Brasil|  null|     null|   76|  null|          null|           null|2020-08-05 00:00:00|       32|       210147125|       2857597|     55676|          97240|       1421|         2020637|               741180|                  null|\n",
      "+------+------+---------+-----+------+--------------+---------------+-------------------+---------+----------------+--------------+----------+---------------+-----------+----------------+---------------------+----------------------+\n",
      "only showing top 5 rows\n",
      "\n"
     ]
    }
   ],
   "source": [
    "dados.show(5)"
   ]
  },
  {
   "cell_type": "code",
   "execution_count": 7,
   "metadata": {},
   "outputs": [],
   "source": [
    "# Ajustando a estrutura da coluna data - Excluir o campo hora (as informações são diárias)\n",
    "dados = dados.withColumn('data', f.from_unixtime(f.unix_timestamp(dados.data), \"yyyy-MM-dd\"))"
   ]
  },
  {
   "cell_type": "code",
   "execution_count": 8,
   "metadata": {},
   "outputs": [
    {
     "data": {
      "text/html": [
       "<div>\n",
       "<style scoped>\n",
       "    .dataframe tbody tr th:only-of-type {\n",
       "        vertical-align: middle;\n",
       "    }\n",
       "\n",
       "    .dataframe tbody tr th {\n",
       "        vertical-align: top;\n",
       "    }\n",
       "\n",
       "    .dataframe thead th {\n",
       "        text-align: right;\n",
       "    }\n",
       "</style>\n",
       "<table border=\"1\" class=\"dataframe\">\n",
       "  <thead>\n",
       "    <tr style=\"text-align: right;\">\n",
       "      <th></th>\n",
       "      <th>regiao</th>\n",
       "      <th>estado</th>\n",
       "      <th>municipio</th>\n",
       "      <th>coduf</th>\n",
       "      <th>codmun</th>\n",
       "      <th>codRegiaoSaude</th>\n",
       "      <th>nomeRegiaoSaude</th>\n",
       "      <th>data</th>\n",
       "      <th>semanaEpi</th>\n",
       "      <th>populacaoTCU2019</th>\n",
       "      <th>casosAcumulado</th>\n",
       "      <th>casosNovos</th>\n",
       "      <th>obitosAcumulado</th>\n",
       "      <th>obitosNovos</th>\n",
       "      <th>Recuperadosnovos</th>\n",
       "      <th>emAcompanhamentoNovos</th>\n",
       "      <th>interior/metropolitana</th>\n",
       "    </tr>\n",
       "  </thead>\n",
       "  <tbody>\n",
       "    <tr>\n",
       "      <th>0</th>\n",
       "      <td>Brasil</td>\n",
       "      <td>None</td>\n",
       "      <td>None</td>\n",
       "      <td>76</td>\n",
       "      <td>None</td>\n",
       "      <td>None</td>\n",
       "      <td>None</td>\n",
       "      <td>2020-08-01</td>\n",
       "      <td>31</td>\n",
       "      <td>210147125</td>\n",
       "      <td>2707877</td>\n",
       "      <td>45392</td>\n",
       "      <td>93563</td>\n",
       "      <td>1088</td>\n",
       "      <td>1865729</td>\n",
       "      <td>748585</td>\n",
       "      <td>None</td>\n",
       "    </tr>\n",
       "    <tr>\n",
       "      <th>1</th>\n",
       "      <td>Brasil</td>\n",
       "      <td>None</td>\n",
       "      <td>None</td>\n",
       "      <td>76</td>\n",
       "      <td>None</td>\n",
       "      <td>None</td>\n",
       "      <td>None</td>\n",
       "      <td>2020-08-02</td>\n",
       "      <td>32</td>\n",
       "      <td>210147125</td>\n",
       "      <td>2733677</td>\n",
       "      <td>25800</td>\n",
       "      <td>94104</td>\n",
       "      <td>541</td>\n",
       "      <td>1883677</td>\n",
       "      <td>755896</td>\n",
       "      <td>None</td>\n",
       "    </tr>\n",
       "    <tr>\n",
       "      <th>2</th>\n",
       "      <td>Brasil</td>\n",
       "      <td>None</td>\n",
       "      <td>None</td>\n",
       "      <td>76</td>\n",
       "      <td>None</td>\n",
       "      <td>None</td>\n",
       "      <td>None</td>\n",
       "      <td>2020-08-03</td>\n",
       "      <td>32</td>\n",
       "      <td>210147125</td>\n",
       "      <td>2750318</td>\n",
       "      <td>16641</td>\n",
       "      <td>94665</td>\n",
       "      <td>561</td>\n",
       "      <td>1912319</td>\n",
       "      <td>743334</td>\n",
       "      <td>None</td>\n",
       "    </tr>\n",
       "    <tr>\n",
       "      <th>3</th>\n",
       "      <td>Brasil</td>\n",
       "      <td>None</td>\n",
       "      <td>None</td>\n",
       "      <td>76</td>\n",
       "      <td>None</td>\n",
       "      <td>None</td>\n",
       "      <td>None</td>\n",
       "      <td>2020-08-04</td>\n",
       "      <td>32</td>\n",
       "      <td>210147125</td>\n",
       "      <td>2801921</td>\n",
       "      <td>51603</td>\n",
       "      <td>95819</td>\n",
       "      <td>1154</td>\n",
       "      <td>1970767</td>\n",
       "      <td>735335</td>\n",
       "      <td>None</td>\n",
       "    </tr>\n",
       "    <tr>\n",
       "      <th>4</th>\n",
       "      <td>Brasil</td>\n",
       "      <td>None</td>\n",
       "      <td>None</td>\n",
       "      <td>76</td>\n",
       "      <td>None</td>\n",
       "      <td>None</td>\n",
       "      <td>None</td>\n",
       "      <td>2020-08-05</td>\n",
       "      <td>32</td>\n",
       "      <td>210147125</td>\n",
       "      <td>2857597</td>\n",
       "      <td>55676</td>\n",
       "      <td>97240</td>\n",
       "      <td>1421</td>\n",
       "      <td>2020637</td>\n",
       "      <td>741180</td>\n",
       "      <td>None</td>\n",
       "    </tr>\n",
       "    <tr>\n",
       "      <th>5</th>\n",
       "      <td>Brasil</td>\n",
       "      <td>None</td>\n",
       "      <td>None</td>\n",
       "      <td>76</td>\n",
       "      <td>None</td>\n",
       "      <td>None</td>\n",
       "      <td>None</td>\n",
       "      <td>2020-08-06</td>\n",
       "      <td>32</td>\n",
       "      <td>210147125</td>\n",
       "      <td>2912212</td>\n",
       "      <td>54615</td>\n",
       "      <td>98493</td>\n",
       "      <td>1253</td>\n",
       "      <td>2080916</td>\n",
       "      <td>781954</td>\n",
       "      <td>None</td>\n",
       "    </tr>\n",
       "    <tr>\n",
       "      <th>6</th>\n",
       "      <td>Brasil</td>\n",
       "      <td>None</td>\n",
       "      <td>None</td>\n",
       "      <td>76</td>\n",
       "      <td>None</td>\n",
       "      <td>None</td>\n",
       "      <td>None</td>\n",
       "      <td>2020-08-07</td>\n",
       "      <td>32</td>\n",
       "      <td>210147125</td>\n",
       "      <td>2962442</td>\n",
       "      <td>50230</td>\n",
       "      <td>99572</td>\n",
       "      <td>1079</td>\n",
       "      <td>2068394</td>\n",
       "      <td>794476</td>\n",
       "      <td>None</td>\n",
       "    </tr>\n",
       "    <tr>\n",
       "      <th>7</th>\n",
       "      <td>Brasil</td>\n",
       "      <td>None</td>\n",
       "      <td>None</td>\n",
       "      <td>76</td>\n",
       "      <td>None</td>\n",
       "      <td>None</td>\n",
       "      <td>None</td>\n",
       "      <td>2020-08-08</td>\n",
       "      <td>32</td>\n",
       "      <td>210147125</td>\n",
       "      <td>3012412</td>\n",
       "      <td>49970</td>\n",
       "      <td>100477</td>\n",
       "      <td>905</td>\n",
       "      <td>2094293</td>\n",
       "      <td>817642</td>\n",
       "      <td>None</td>\n",
       "    </tr>\n",
       "    <tr>\n",
       "      <th>8</th>\n",
       "      <td>Brasil</td>\n",
       "      <td>None</td>\n",
       "      <td>None</td>\n",
       "      <td>76</td>\n",
       "      <td>None</td>\n",
       "      <td>None</td>\n",
       "      <td>None</td>\n",
       "      <td>2020-08-09</td>\n",
       "      <td>33</td>\n",
       "      <td>210147125</td>\n",
       "      <td>3035422</td>\n",
       "      <td>23010</td>\n",
       "      <td>101049</td>\n",
       "      <td>572</td>\n",
       "      <td>2118460</td>\n",
       "      <td>815913</td>\n",
       "      <td>None</td>\n",
       "    </tr>\n",
       "    <tr>\n",
       "      <th>9</th>\n",
       "      <td>Brasil</td>\n",
       "      <td>None</td>\n",
       "      <td>None</td>\n",
       "      <td>76</td>\n",
       "      <td>None</td>\n",
       "      <td>None</td>\n",
       "      <td>None</td>\n",
       "      <td>2020-08-10</td>\n",
       "      <td>33</td>\n",
       "      <td>210147125</td>\n",
       "      <td>3057470</td>\n",
       "      <td>22048</td>\n",
       "      <td>101752</td>\n",
       "      <td>703</td>\n",
       "      <td>2163812</td>\n",
       "      <td>791906</td>\n",
       "      <td>None</td>\n",
       "    </tr>\n",
       "  </tbody>\n",
       "</table>\n",
       "</div>"
      ],
      "text/plain": [
       "   regiao estado municipio  coduf codmun codRegiaoSaude nomeRegiaoSaude  \\\n",
       "0  Brasil   None      None     76   None           None            None   \n",
       "1  Brasil   None      None     76   None           None            None   \n",
       "2  Brasil   None      None     76   None           None            None   \n",
       "3  Brasil   None      None     76   None           None            None   \n",
       "4  Brasil   None      None     76   None           None            None   \n",
       "5  Brasil   None      None     76   None           None            None   \n",
       "6  Brasil   None      None     76   None           None            None   \n",
       "7  Brasil   None      None     76   None           None            None   \n",
       "8  Brasil   None      None     76   None           None            None   \n",
       "9  Brasil   None      None     76   None           None            None   \n",
       "\n",
       "         data  semanaEpi  populacaoTCU2019  casosAcumulado  casosNovos  \\\n",
       "0  2020-08-01         31         210147125         2707877       45392   \n",
       "1  2020-08-02         32         210147125         2733677       25800   \n",
       "2  2020-08-03         32         210147125         2750318       16641   \n",
       "3  2020-08-04         32         210147125         2801921       51603   \n",
       "4  2020-08-05         32         210147125         2857597       55676   \n",
       "5  2020-08-06         32         210147125         2912212       54615   \n",
       "6  2020-08-07         32         210147125         2962442       50230   \n",
       "7  2020-08-08         32         210147125         3012412       49970   \n",
       "8  2020-08-09         33         210147125         3035422       23010   \n",
       "9  2020-08-10         33         210147125         3057470       22048   \n",
       "\n",
       "   obitosAcumulado  obitosNovos  Recuperadosnovos  emAcompanhamentoNovos  \\\n",
       "0            93563         1088           1865729                 748585   \n",
       "1            94104          541           1883677                 755896   \n",
       "2            94665          561           1912319                 743334   \n",
       "3            95819         1154           1970767                 735335   \n",
       "4            97240         1421           2020637                 741180   \n",
       "5            98493         1253           2080916                 781954   \n",
       "6            99572         1079           2068394                 794476   \n",
       "7           100477          905           2094293                 817642   \n",
       "8           101049          572           2118460                 815913   \n",
       "9           101752          703           2163812                 791906   \n",
       "\n",
       "  interior/metropolitana  \n",
       "0                   None  \n",
       "1                   None  \n",
       "2                   None  \n",
       "3                   None  \n",
       "4                   None  \n",
       "5                   None  \n",
       "6                   None  \n",
       "7                   None  \n",
       "8                   None  \n",
       "9                   None  "
      ]
     },
     "execution_count": 8,
     "metadata": {},
     "output_type": "execute_result"
    }
   ],
   "source": [
    "# Apresentando os dados de  forma mais limpa com o auxilio do pandas \n",
    "dados.limit(10).toPandas()"
   ]
  },
  {
   "cell_type": "markdown",
   "metadata": {},
   "source": [
    "## 02. Otimizar todos os dados do HDFS para uma tabela Hive particionada por município"
   ]
  },
  {
   "cell_type": "code",
   "execution_count": 14,
   "metadata": {},
   "outputs": [],
   "source": [
    "# Salvado como tabela Hive particionada por município  \n",
    "dados.write.saveAsTable(\"dados_covid_tabela_hive\", format=\"parquet\", partitionBy=\"municipio\")"
   ]
  },
  {
   "cell_type": "code",
   "execution_count": 9,
   "metadata": {},
   "outputs": [
    {
     "name": "stdout",
     "output_type": "stream",
     "text": [
      "+-----------------------------+\n",
      "|partition                    |\n",
      "+-----------------------------+\n",
      "|municipio=Abadia de Goiás    |\n",
      "|municipio=Abadia dos Dourados|\n",
      "|municipio=Abadiânia          |\n",
      "|municipio=Abaetetuba         |\n",
      "|municipio=Abaeté             |\n",
      "+-----------------------------+\n",
      "only showing top 5 rows\n",
      "\n"
     ]
    }
   ],
   "source": [
    "#Conferindo se a tabela Hive foi salva com sucesso\n",
    "sqlContext.sql(\"show partitions dados_covid_tabela_hive\").show(5, truncate=False)"
   ]
  },
  {
   "cell_type": "markdown",
   "metadata": {},
   "source": [
    "## 03. Criar 3 visualizações pelo Spark com os dados enviados para o HDFS"
   ]
  },
  {
   "cell_type": "markdown",
   "metadata": {},
   "source": [
    "### Construindo 1º visualização "
   ]
  },
  {
   "cell_type": "code",
   "execution_count": 9,
   "metadata": {},
   "outputs": [],
   "source": [
    "# Selecionando os dados da cidade de Recife - PE\n",
    "dados_recife = spark.read.parquet(\"/user/hive/warehouse/dados_covid_tabela_hive/municipio=Recife\")"
   ]
  },
  {
   "cell_type": "code",
   "execution_count": 10,
   "metadata": {},
   "outputs": [],
   "source": [
    "# Construindo um DataFrame com a soma dos óbitos acumulados\n",
    "recife_obitos_acumulados = dados_recife.agg({\"obitosAcumulado\":\"sum\"})"
   ]
  },
  {
   "cell_type": "code",
   "execution_count": 11,
   "metadata": {},
   "outputs": [
    {
     "name": "stdout",
     "output_type": "stream",
     "text": [
      "+--------------------+\n",
      "|sum(obitosAcumulado)|\n",
      "+--------------------+\n",
      "|             1159750|\n",
      "+--------------------+\n",
      "\n"
     ]
    }
   ],
   "source": [
    "# Visualizando \n",
    "recife_obitos_acumulados.show()"
   ]
  },
  {
   "cell_type": "code",
   "execution_count": 12,
   "metadata": {},
   "outputs": [],
   "source": [
    "# Renomeando a coluna, pois tabela Hive não aceita alguns caracteres como o de parênteses \n",
    "recife_obitos_acumulados = recife_obitos_acumulados.withColumnRenamed(\"sum(obitosAcumulado)\", \"obitosAcumulados\")"
   ]
  },
  {
   "cell_type": "code",
   "execution_count": 13,
   "metadata": {},
   "outputs": [
    {
     "name": "stdout",
     "output_type": "stream",
     "text": [
      "+----------------+\n",
      "|obitosAcumulados|\n",
      "+----------------+\n",
      "|         1159750|\n",
      "+----------------+\n",
      "\n"
     ]
    }
   ],
   "source": [
    "#Visualizando apôs alteração \n",
    "recife_obitos_acumulados.show()"
   ]
  },
  {
   "cell_type": "markdown",
   "metadata": {},
   "source": [
    "### Construindo 2º visualização "
   ]
  },
  {
   "cell_type": "code",
   "execution_count": 14,
   "metadata": {},
   "outputs": [
    {
     "name": "stdout",
     "output_type": "stream",
     "text": [
      "+----------+---------------+--------------+\n",
      "|      data|obitosAcumulado|casosAcumulado|\n",
      "+----------+---------------+--------------+\n",
      "|2021-01-01|           2695|         51088|\n",
      "|2021-01-02|           2696|         51246|\n",
      "|2021-01-03|           2698|         51324|\n",
      "|2021-01-04|           2697|         51500|\n",
      "|2021-01-05|           2699|         51850|\n",
      "|2021-01-06|           2706|         52064|\n",
      "|2021-01-07|           2715|         52508|\n",
      "|2021-01-08|           2726|         52637|\n",
      "|2021-01-09|           2749|         52778|\n",
      "|2021-01-10|           2751|         53138|\n",
      "+----------+---------------+--------------+\n",
      "only showing top 10 rows\n",
      "\n"
     ]
    }
   ],
   "source": [
    "dados_recife.select(\"data\", \"obitosAcumulado\", \"casosAcumulado\").show(10)"
   ]
  },
  {
   "cell_type": "code",
   "execution_count": 21,
   "metadata": {},
   "outputs": [],
   "source": [
    "obitos_casos_acumulados_recife = dados_recife.select(\"data\", \"obitosAcumulado\", \"casosAcumulado\")"
   ]
  },
  {
   "cell_type": "markdown",
   "metadata": {},
   "source": [
    "### Construindo 3º visualização "
   ]
  },
  {
   "cell_type": "code",
   "execution_count": 27,
   "metadata": {},
   "outputs": [],
   "source": [
    "# Óbitos acumulados e mortalidade por dia na cidade do Recife \n",
    "dados_recife_mortalidade = dados_recife.select(\n",
    "    dados_recife['data'].alias('Data'),\\\n",
    "    dados_recife['obitosAcumulado'].alias('Óbitos_Acumulados'),\\\n",
    "    (f.round(dados_recife['obitosAcumulado']/dados_recife['populacaoTCU2019']*100000,2)).alias('Mortalidade')\n",
    ")"
   ]
  },
  {
   "cell_type": "code",
   "execution_count": 28,
   "metadata": {},
   "outputs": [
    {
     "name": "stdout",
     "output_type": "stream",
     "text": [
      "+----------+-----------------+-----------+\n",
      "|Data      |Óbitos_Acumulados|Mortalidade|\n",
      "+----------+-----------------+-----------+\n",
      "|2021-01-01|2695             |163.76     |\n",
      "|2021-01-02|2696             |163.82     |\n",
      "|2021-01-03|2698             |163.94     |\n",
      "|2021-01-04|2697             |163.88     |\n",
      "|2021-01-05|2699             |164.0      |\n",
      "|2021-01-06|2706             |164.43     |\n",
      "|2021-01-07|2715             |164.97     |\n",
      "|2021-01-08|2726             |165.64     |\n",
      "|2021-01-09|2749             |167.04     |\n",
      "|2021-01-10|2751             |167.16     |\n",
      "|2021-01-11|2751             |167.16     |\n",
      "|2021-01-12|2770             |168.31     |\n",
      "|2021-01-13|2782             |169.04     |\n",
      "|2021-01-14|2792             |169.65     |\n",
      "|2021-01-15|2798             |170.02     |\n",
      "|2021-01-16|2808             |170.62     |\n",
      "|2021-01-17|2825             |171.66     |\n",
      "|2021-01-18|2826             |171.72     |\n",
      "|2021-01-19|2833             |172.14     |\n",
      "|2021-01-20|2848             |173.05     |\n",
      "+----------+-----------------+-----------+\n",
      "only showing top 20 rows\n",
      "\n"
     ]
    }
   ],
   "source": [
    "dados_recife_mortalidade.show(truncate=False)"
   ]
  },
  {
   "cell_type": "markdown",
   "metadata": {},
   "source": [
    "## 04. Salvar a primeira visualização como tabela Hive"
   ]
  },
  {
   "cell_type": "code",
   "execution_count": 18,
   "metadata": {},
   "outputs": [],
   "source": [
    "dados.write.saveAsTable(\"recife_obitos_acumulados\", format=\"parquet\")"
   ]
  },
  {
   "cell_type": "markdown",
   "metadata": {},
   "source": [
    "## 05. Salvar a segunda visualização com formato parquet e compressão snappy"
   ]
  },
  {
   "cell_type": "code",
   "execution_count": 25,
   "metadata": {},
   "outputs": [],
   "source": [
    "# Salvando em formato parquet e compressão snappy\n",
    "obitos_casos_acumulados_recife.write.parquet(path=\"/user/raoni/casosEObitosAcumuladosRecife\",compression=\"snappy\")"
   ]
  },
  {
   "cell_type": "code",
   "execution_count": 26,
   "metadata": {},
   "outputs": [
    {
     "name": "stdout",
     "output_type": "stream",
     "text": [
      "Found 5 items\r\n",
      "-rw-r--r--   2 root supergroup          0 2022-04-28 22:08 /user/raoni/casosEObitosAcumuladosRecife/_SUCCESS\r\n",
      "-rw-r--r--   2 root supergroup       3244 2022-04-28 22:08 /user/raoni/casosEObitosAcumuladosRecife/part-00000-24c1e2f4-7a2c-4e72-8f76-34014a43292b-c000.snappy.parquet\r\n",
      "-rw-r--r--   2 root supergroup       2780 2022-04-28 22:08 /user/raoni/casosEObitosAcumuladosRecife/part-00001-24c1e2f4-7a2c-4e72-8f76-34014a43292b-c000.snappy.parquet\r\n",
      "-rw-r--r--   2 root supergroup       2540 2022-04-28 22:08 /user/raoni/casosEObitosAcumuladosRecife/part-00002-24c1e2f4-7a2c-4e72-8f76-34014a43292b-c000.snappy.parquet\r\n",
      "-rw-r--r--   2 root supergroup        960 2022-04-28 22:08 /user/raoni/casosEObitosAcumuladosRecife/part-00003-24c1e2f4-7a2c-4e72-8f76-34014a43292b-c000.snappy.parquet\r\n"
     ]
    }
   ],
   "source": [
    "# Conferindo se o processo anterior aconteceu com sucesso\n",
    "!hdfs dfs -ls /user/raoni/casosEObitosAcumuladosRecife"
   ]
  },
  {
   "cell_type": "markdown",
   "metadata": {},
   "source": [
    "## 06. Salvar a terceira visualização em um tópico no Kafka"
   ]
  },
  {
   "cell_type": "code",
   "execution_count": 39,
   "metadata": {},
   "outputs": [],
   "source": [
    "# Construindo um tópico no Kafka\n",
    "\n",
    "dados_recife_mortalidade = spark\\\n",
    "    .read\\\n",
    "    .format('kafka')\\\n",
    "    .option('kafka.bootstrap.servers', 'kafka:9092')\\\n",
    "    .option('subscribe', 'mortalidade_recife')\\\n",
    "    .load()\n"
   ]
  },
  {
   "cell_type": "code",
   "execution_count": 42,
   "metadata": {},
   "outputs": [
    {
     "name": "stdout",
     "output_type": "stream",
     "text": [
      "+-------------------------------------------------------------------+\n",
      "|value                                                              |\n",
      "+-------------------------------------------------------------------+\n",
      "|{\"Data\":\"2020-03-27\",\"Óbitos_Acumulados\":0,\"Mortalidade\":0.0}      |\n",
      "|{\"Data\":\"2021-01-01\",\"Óbitos_Acumulados\":2695,\"Mortalidade\":163.76}|\n",
      "|{\"Data\":\"2021-07-01\",\"Óbitos_Acumulados\":4684,\"Mortalidade\":284.62}|\n",
      "|{\"Data\":\"2020-08-01\",\"Óbitos_Acumulados\":2128,\"Mortalidade\":129.3} |\n",
      "|{\"Data\":\"2020-03-28\",\"Óbitos_Acumulados\":4,\"Mortalidade\":0.24}     |\n",
      "|{\"Data\":\"2021-07-02\",\"Óbitos_Acumulados\":4695,\"Mortalidade\":285.28}|\n",
      "|{\"Data\":\"2020-08-02\",\"Óbitos_Acumulados\":2130,\"Mortalidade\":129.43}|\n",
      "|{\"Data\":\"2021-07-03\",\"Óbitos_Acumulados\":4718,\"Mortalidade\":286.68}|\n",
      "|{\"Data\":\"2020-03-29\",\"Óbitos_Acumulados\":4,\"Mortalidade\":0.24}     |\n",
      "|{\"Data\":\"2021-01-02\",\"Óbitos_Acumulados\":2696,\"Mortalidade\":163.82}|\n",
      "|{\"Data\":\"2020-03-30\",\"Óbitos_Acumulados\":4,\"Mortalidade\":0.24}     |\n",
      "|{\"Data\":\"2021-01-03\",\"Óbitos_Acumulados\":2698,\"Mortalidade\":163.94}|\n",
      "|{\"Data\":\"2020-03-31\",\"Óbitos_Acumulados\":4,\"Mortalidade\":0.24}     |\n",
      "|{\"Data\":\"2021-01-04\",\"Óbitos_Acumulados\":2697,\"Mortalidade\":163.88}|\n",
      "|{\"Data\":\"2020-04-01\",\"Óbitos_Acumulados\":5,\"Mortalidade\":0.3}      |\n",
      "|{\"Data\":\"2021-01-05\",\"Óbitos_Acumulados\":2699,\"Mortalidade\":164.0} |\n",
      "|{\"Data\":\"2021-01-06\",\"Óbitos_Acumulados\":2706,\"Mortalidade\":164.43}|\n",
      "|{\"Data\":\"2020-04-02\",\"Óbitos_Acumulados\":6,\"Mortalidade\":0.36}     |\n",
      "|{\"Data\":\"2021-01-07\",\"Óbitos_Acumulados\":2715,\"Mortalidade\":164.97}|\n",
      "|{\"Data\":\"2020-04-03\",\"Óbitos_Acumulados\":6,\"Mortalidade\":0.36}     |\n",
      "+-------------------------------------------------------------------+\n",
      "only showing top 20 rows\n",
      "\n"
     ]
    }
   ],
   "source": [
    "# Realizando a leitura para conferir sua criação \n",
    "\n",
    "topic_mortalidade_recife = spark.read\\\n",
    "    .format('kafka')\\\n",
    "    .option('kafka.bootstrap.servers', 'kafka:9092')\\\n",
    "    .option('subscribe','mortalidade_recife') \\\n",
    "    .load()\n",
    "\n",
    "topic_string = topic_mortalidade_recife.select(col('value').cast('string'))\n",
    "topic_string.show(truncate = False)\n",
    "    "
   ]
  },
  {
   "cell_type": "markdown",
   "metadata": {},
   "source": [
    "## 07. Criar uma visualização pelo Spark com os dados enviados ao HDFS"
   ]
  },
  {
   "cell_type": "code",
   "execution_count": 66,
   "metadata": {},
   "outputs": [],
   "source": [
    "# Construindo visualização por região com os dados: população, casos acumulados, obítos e mortalidade\n",
    "sintese_região = dados.groupBy('regiao')\\\n",
    "    .agg({'casosAcumulado':'max', 'obitosAcumulado':'max','populacaoTCU2019':'max'})\n",
    "\n",
    "sintese_região =(sintese_região\\\n",
    "                 .withColumnRenamed('max(populacaoTCU2019)','População')\\\n",
    "                 .withColumnRenamed('max(casosAcumulado)', 'Casos_Acumulados')\\\n",
    "                 .withColumnRenamed('max(obitosAcumulado)','Óbitos_Acumulados')\n",
    "                )\n",
    "sintese_região = (sintese_região\n",
    "                  .withColumn('Mortalidade',\\\n",
    "                              f.round(sintese_região['Óbitos_Acumulados']/sintese_região['População']*100000,2))\n",
    "                 )\n",
    "sintese_região = sintese_região.withColumn('New_col', when(sintese_região.regiao != 'null', \"True\"))\\\n",
    "    .filter(\"New_col == True\").drop(\"New_col\")\n",
    "\n",
    "sintese_região = sintese_região.orderBy(col('regiao'))"
   ]
  },
  {
   "cell_type": "code",
   "execution_count": 69,
   "metadata": {},
   "outputs": [
    {
     "data": {
      "text/html": [
       "<div>\n",
       "<style scoped>\n",
       "    .dataframe tbody tr th:only-of-type {\n",
       "        vertical-align: middle;\n",
       "    }\n",
       "\n",
       "    .dataframe tbody tr th {\n",
       "        vertical-align: top;\n",
       "    }\n",
       "\n",
       "    .dataframe thead th {\n",
       "        text-align: right;\n",
       "    }\n",
       "</style>\n",
       "<table border=\"1\" class=\"dataframe\">\n",
       "  <thead>\n",
       "    <tr style=\"text-align: right;\">\n",
       "      <th></th>\n",
       "      <th>regiao</th>\n",
       "      <th>População</th>\n",
       "      <th>Casos_Acumulados</th>\n",
       "      <th>Óbitos_Acumulados</th>\n",
       "      <th>Mortalidade</th>\n",
       "    </tr>\n",
       "  </thead>\n",
       "  <tbody>\n",
       "    <tr>\n",
       "      <th>0</th>\n",
       "      <td>Brasil</td>\n",
       "      <td>210147125</td>\n",
       "      <td>18855015</td>\n",
       "      <td>526892</td>\n",
       "      <td>250.73</td>\n",
       "    </tr>\n",
       "    <tr>\n",
       "      <th>1</th>\n",
       "      <td>Centro-Oeste</td>\n",
       "      <td>7018354</td>\n",
       "      <td>686433</td>\n",
       "      <td>19485</td>\n",
       "      <td>277.63</td>\n",
       "    </tr>\n",
       "    <tr>\n",
       "      <th>2</th>\n",
       "      <td>Nordeste</td>\n",
       "      <td>14873064</td>\n",
       "      <td>1141612</td>\n",
       "      <td>24428</td>\n",
       "      <td>164.24</td>\n",
       "    </tr>\n",
       "    <tr>\n",
       "      <th>3</th>\n",
       "      <td>Norte</td>\n",
       "      <td>8602865</td>\n",
       "      <td>557708</td>\n",
       "      <td>15624</td>\n",
       "      <td>181.61</td>\n",
       "    </tr>\n",
       "    <tr>\n",
       "      <th>4</th>\n",
       "      <td>Sudeste</td>\n",
       "      <td>45919049</td>\n",
       "      <td>3809222</td>\n",
       "      <td>130389</td>\n",
       "      <td>283.95</td>\n",
       "    </tr>\n",
       "    <tr>\n",
       "      <th>5</th>\n",
       "      <td>Sul</td>\n",
       "      <td>11433957</td>\n",
       "      <td>1308643</td>\n",
       "      <td>31867</td>\n",
       "      <td>278.70</td>\n",
       "    </tr>\n",
       "  </tbody>\n",
       "</table>\n",
       "</div>"
      ],
      "text/plain": [
       "         regiao  População  Casos_Acumulados  Óbitos_Acumulados  Mortalidade\n",
       "0        Brasil  210147125          18855015             526892       250.73\n",
       "1  Centro-Oeste    7018354            686433              19485       277.63\n",
       "2      Nordeste   14873064           1141612              24428       164.24\n",
       "3         Norte    8602865            557708              15624       181.61\n",
       "4       Sudeste   45919049           3809222             130389       283.95\n",
       "5           Sul   11433957           1308643              31867       278.70"
      ]
     },
     "execution_count": 69,
     "metadata": {},
     "output_type": "execute_result"
    }
   ],
   "source": [
    "# visualizando com a ajuda do pandas\n",
    "sintese_região.toPandas()"
   ]
  }
 ],
 "metadata": {
  "kernelspec": {
   "display_name": "PySpark",
   "language": "python",
   "name": "pyspark"
  },
  "language_info": {
   "codemirror_mode": {
    "name": "ipython",
    "version": 3
   },
   "file_extension": ".py",
   "mimetype": "text/x-python",
   "name": "python",
   "nbconvert_exporter": "python",
   "pygments_lexer": "ipython3",
   "version": "3.6.10"
  }
 },
 "nbformat": 4,
 "nbformat_minor": 2
}
